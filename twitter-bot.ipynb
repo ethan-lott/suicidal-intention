{
 "cells": [
  {
   "cell_type": "code",
   "execution_count": 1,
   "metadata": {},
   "outputs": [],
   "source": [
    "from twython import Twython, TwythonError\n",
    "import os\n",
    "import time"
   ]
  },
  {
   "cell_type": "code",
   "execution_count": null,
   "metadata": {},
   "outputs": [],
   "source": [
    "\n",
    "# twitter creds and setup'''\n",
    "\n",
    "CONSUMER_KEY = os.getenv('S8zHrtlrQlrDNqf2w5ZWU7E2x')\n",
    "CONSUMER_SECRET = os.getenv('1mt32iyFIDBjaMp8ekzUCLG7fScJwXKJl1X2D1VcCxTZU4kCOZ')\n",
    "OAUTH_TOKEN = os.getenv('1644799506276401152-5nITsZbspdsxdQlLE6avvDyuvJcMHD')\n",
    "OAUTH_SECRET = os.getenv('HFHsiXLUoFOKwd73Xm39C38GgcICm0q5UGdLw5yYTCoUF')\n",
    "\n",
    "'''twitter client setup'''\n",
    "twitter = Twython(CONSUMER_KEY, CONSUMER_SECRET, OAUTH_TOKEN, OAUTH_SECRET)\n",
    "\n",
    "def make_tweet():\n",
    "\ttwitter.send_direct_message(event = {\n",
    "\t\t\"type\": \"message_create\",\n",
    "\t\t\"message_create\": {\n",
    "\t\t\t\"target\": {\"recipient_id\": \"@user\"},\n",
    "\t\t\t\"message_data\": {\"text\": \"Hello world!\"}\n",
    "\t\t}\n",
    "\t})\n",
    "\tpass\n",
    "\n",
    "def run():\n",
    "\t'''post to twitter and runs the bot \n",
    "\tto tweet at a specified interval'''\n",
    "\tstatus = make_tweet()\n",
    "\ttwitter.update_status(status=status)\n",
    "\ttime.sleep(3600) # once per hour, change this if you want\n",
    "\n",
    "if __name__ == '__main__':\n",
    "\twhile True:\n",
    "\t\trun()"
   ]
  }
 ],
 "metadata": {
  "kernelspec": {
   "display_name": "bitcamp",
   "language": "python",
   "name": "python3"
  },
  "language_info": {
   "codemirror_mode": {
    "name": "ipython",
    "version": 3
   },
   "file_extension": ".py",
   "mimetype": "text/x-python",
   "name": "python",
   "nbconvert_exporter": "python",
   "pygments_lexer": "ipython3",
   "version": "3.9.16"
  },
  "orig_nbformat": 4
 },
 "nbformat": 4,
 "nbformat_minor": 2
}

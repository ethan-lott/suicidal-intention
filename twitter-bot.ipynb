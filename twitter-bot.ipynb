{
 "cells": [
  {
   "cell_type": "code",
   "execution_count": 2,
   "metadata": {},
   "outputs": [],
   "source": [
    "from twython import Twython, TwythonError\n",
    "import os\n",
    "import time"
   ]
  },
  {
   "cell_type": "code",
   "execution_count": 3,
   "metadata": {},
   "outputs": [
    {
     "ename": "TwythonAuthError",
     "evalue": "Twitter API returned a 400 (Bad Request), Bad Authentication data",
     "output_type": "error",
     "traceback": [
      "\u001b[1;31m---------------------------------------------------------------------------\u001b[0m",
      "\u001b[1;31mTwythonAuthError\u001b[0m                          Traceback (most recent call last)",
      "Cell \u001b[1;32mIn[3], line 11\u001b[0m\n\u001b[0;32m      8\u001b[0m \u001b[39m'''twitter client setup'''\u001b[39;00m\n\u001b[0;32m      9\u001b[0m twitter \u001b[39m=\u001b[39m Twython(CONSUMER_KEY, CONSUMER_SECRET, OAUTH_TOKEN, OAUTH_SECRET, auth_endpoint\u001b[39m=\u001b[39m\u001b[39m\"\u001b[39m\u001b[39mauthorize\u001b[39m\u001b[39m\"\u001b[39m)\n\u001b[1;32m---> 11\u001b[0m recent_dms \u001b[39m=\u001b[39m twitter\u001b[39m.\u001b[39;49mget_direct_messages()\n\u001b[0;32m     12\u001b[0m \u001b[39m'''\u001b[39;00m\n\u001b[0;32m     13\u001b[0m \u001b[39mdef make_tweet():\u001b[39;00m\n\u001b[0;32m     14\u001b[0m \u001b[39m\ttwitter.send_direct_message(event = {\u001b[39;00m\n\u001b[1;32m   (...)\u001b[0m\n\u001b[0;32m     33\u001b[0m \u001b[39m\t\t\u001b[39;00m\n\u001b[0;32m     34\u001b[0m \u001b[39m'''\u001b[39;00m\n",
      "File \u001b[1;32mc:\\Users\\ethan\\anaconda3\\envs\\bitcamp\\lib\\site-packages\\twython\\endpoints.py:306\u001b[0m, in \u001b[0;36mEndpointsMixin.get_direct_messages\u001b[1;34m(self, **params)\u001b[0m\n\u001b[0;32m    299\u001b[0m \u001b[39mdef\u001b[39;00m \u001b[39mget_direct_messages\u001b[39m(\u001b[39mself\u001b[39m, \u001b[39m*\u001b[39m\u001b[39m*\u001b[39mparams):\n\u001b[0;32m    300\u001b[0m \u001b[39m    \u001b[39m\u001b[39m\"\"\"Returns the 20 most recent direct messages sent to the authenticating user.\u001b[39;00m\n\u001b[0;32m    301\u001b[0m \n\u001b[0;32m    302\u001b[0m \u001b[39m    Docs:\u001b[39;00m\n\u001b[0;32m    303\u001b[0m \u001b[39m    https://developer.twitter.com/en/docs/direct-messages/sending-and-receiving/api-reference/list-events\u001b[39;00m\n\u001b[0;32m    304\u001b[0m \n\u001b[0;32m    305\u001b[0m \u001b[39m    \"\"\"\u001b[39;00m\n\u001b[1;32m--> 306\u001b[0m     \u001b[39mreturn\u001b[39;00m \u001b[39mself\u001b[39;49m\u001b[39m.\u001b[39;49mget(\u001b[39m'\u001b[39;49m\u001b[39mdirect_messages/events/list\u001b[39;49m\u001b[39m'\u001b[39;49m, params\u001b[39m=\u001b[39;49mparams)\n",
      "File \u001b[1;32mc:\\Users\\ethan\\anaconda3\\envs\\bitcamp\\lib\\site-packages\\twython\\api.py:278\u001b[0m, in \u001b[0;36mTwython.get\u001b[1;34m(self, endpoint, params, version)\u001b[0m\n\u001b[0;32m    276\u001b[0m \u001b[39mdef\u001b[39;00m \u001b[39mget\u001b[39m(\u001b[39mself\u001b[39m, endpoint, params\u001b[39m=\u001b[39m\u001b[39mNone\u001b[39;00m, version\u001b[39m=\u001b[39m\u001b[39m'\u001b[39m\u001b[39m1.1\u001b[39m\u001b[39m'\u001b[39m):\n\u001b[0;32m    277\u001b[0m \u001b[39m    \u001b[39m\u001b[39m\"\"\"Shortcut for GET requests via :class:`request`\"\"\"\u001b[39;00m\n\u001b[1;32m--> 278\u001b[0m     \u001b[39mreturn\u001b[39;00m \u001b[39mself\u001b[39;49m\u001b[39m.\u001b[39;49mrequest(endpoint, params\u001b[39m=\u001b[39;49mparams, version\u001b[39m=\u001b[39;49mversion)\n",
      "File \u001b[1;32mc:\\Users\\ethan\\anaconda3\\envs\\bitcamp\\lib\\site-packages\\twython\\api.py:271\u001b[0m, in \u001b[0;36mTwython.request\u001b[1;34m(self, endpoint, method, params, version, json_encoded)\u001b[0m\n\u001b[0;32m    268\u001b[0m \u001b[39melse\u001b[39;00m:\n\u001b[0;32m    269\u001b[0m     url \u001b[39m=\u001b[39m \u001b[39m'\u001b[39m\u001b[39m%s\u001b[39;00m\u001b[39m/\u001b[39m\u001b[39m%s\u001b[39;00m\u001b[39m.json\u001b[39m\u001b[39m'\u001b[39m \u001b[39m%\u001b[39m (\u001b[39mself\u001b[39m\u001b[39m.\u001b[39mapi_url \u001b[39m%\u001b[39m version, endpoint)\n\u001b[1;32m--> 271\u001b[0m content \u001b[39m=\u001b[39m \u001b[39mself\u001b[39;49m\u001b[39m.\u001b[39;49m_request(url, method\u001b[39m=\u001b[39;49mmethod, params\u001b[39m=\u001b[39;49mparams,\n\u001b[0;32m    272\u001b[0m                         api_call\u001b[39m=\u001b[39;49murl, json_encoded\u001b[39m=\u001b[39;49mjson_encoded)\n\u001b[0;32m    274\u001b[0m \u001b[39mreturn\u001b[39;00m content\n",
      "File \u001b[1;32mc:\\Users\\ethan\\anaconda3\\envs\\bitcamp\\lib\\site-packages\\twython\\api.py:201\u001b[0m, in \u001b[0;36mTwython._request\u001b[1;34m(self, url, method, params, api_call, json_encoded)\u001b[0m\n\u001b[0;32m    194\u001b[0m     \u001b[39melif\u001b[39;00m response\u001b[39m.\u001b[39mstatus_code \u001b[39m==\u001b[39m \u001b[39m401\u001b[39m \u001b[39mor\u001b[39;00m \u001b[39m'\u001b[39m\u001b[39mBad Authentication data\u001b[39m\u001b[39m'\u001b[39m \\\n\u001b[0;32m    195\u001b[0m             \u001b[39min\u001b[39;00m error_message:\n\u001b[0;32m    196\u001b[0m         \u001b[39m# Twitter API 1.1, returns a 401 Unauthorized or\u001b[39;00m\n\u001b[0;32m    197\u001b[0m         \u001b[39m# a 400 \"Bad Authentication data\" for invalid/expired\u001b[39;00m\n\u001b[0;32m    198\u001b[0m         \u001b[39m# app keys/user tokens\u001b[39;00m\n\u001b[0;32m    199\u001b[0m         ExceptionType \u001b[39m=\u001b[39m TwythonAuthError\n\u001b[1;32m--> 201\u001b[0m     \u001b[39mraise\u001b[39;00m ExceptionType(\n\u001b[0;32m    202\u001b[0m         error_message,\n\u001b[0;32m    203\u001b[0m         error_code\u001b[39m=\u001b[39mresponse\u001b[39m.\u001b[39mstatus_code,\n\u001b[0;32m    204\u001b[0m         retry_after\u001b[39m=\u001b[39mresponse\u001b[39m.\u001b[39mheaders\u001b[39m.\u001b[39mget(\u001b[39m'\u001b[39m\u001b[39mX-Rate-Limit-Reset\u001b[39m\u001b[39m'\u001b[39m))\n\u001b[0;32m    205\u001b[0m content \u001b[39m=\u001b[39m \u001b[39m'\u001b[39m\u001b[39m'\u001b[39m\n\u001b[0;32m    206\u001b[0m \u001b[39mtry\u001b[39;00m:\n",
      "\u001b[1;31mTwythonAuthError\u001b[0m: Twitter API returned a 400 (Bad Request), Bad Authentication data"
     ]
    }
   ],
   "source": [
    "\n",
    "# twitter creds and setup'''\n",
    "\n",
    "CONSUMER_KEY = os.getenv('S8zHrtlrQlrDNqf2w5ZWU7E2x')\n",
    "CONSUMER_SECRET = os.getenv('1mt32iyFIDBjaMp8ekzUCLG7fScJwXKJl1X2D1VcCxTZU4kCOZ')\n",
    "OAUTH_TOKEN = os.getenv('1644799506276401152-5nITsZbspdsxdQlLE6avvDyuvJcMHD')\n",
    "OAUTH_SECRET = os.getenv('HFHsiXLUoFOKwd73Xm39C38GgcICm0q5UGdLw5yYTCoUF')\n",
    "\n",
    "'''twitter client setup'''\n",
    "twitter = Twython(CONSUMER_KEY, CONSUMER_SECRET, OAUTH_TOKEN, OAUTH_SECRET, auth_endpoint=\"authorize\")\n",
    "\n",
    "recent_dms = twitter.get_direct_messages()\n",
    "'''\n",
    "def make_tweet():\n",
    "\ttwitter.send_direct_message(event = {\n",
    "\t\t\"type\": \"message_create\",\n",
    "\t\t\"message_create\": {\n",
    "\t\t\t\"target\": {\"recipient_id\": \"@user\"},\n",
    "\t\t\t\"message_data\": {\"text\": \"Hello world!\"}\n",
    "\t\t}\n",
    "\t})\n",
    "\tpass\n",
    "\n",
    "def run():\n",
    "\tpost to twitter and runs the bot \n",
    "\tto tweet at a specified interval\n",
    "\tstatus = make_tweet()\n",
    "\ttwitter.update_status(status=status)\n",
    "\ttime.sleep(3600) # once per hour, change this if you want\n",
    "\n",
    "if __name__ == '__main__':\n",
    "\twhile True:\n",
    "\t\trun()\n",
    "\t\t\n",
    "'''"
   ]
  }
 ],
 "metadata": {
  "kernelspec": {
   "display_name": "bitcamp",
   "language": "python",
   "name": "python3"
  },
  "language_info": {
   "codemirror_mode": {
    "name": "ipython",
    "version": 3
   },
   "file_extension": ".py",
   "mimetype": "text/x-python",
   "name": "python",
   "nbconvert_exporter": "python",
   "pygments_lexer": "ipython3",
   "version": "3.9.16"
  },
  "orig_nbformat": 4
 },
 "nbformat": 4,
 "nbformat_minor": 2
}
